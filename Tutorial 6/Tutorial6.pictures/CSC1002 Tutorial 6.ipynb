{
 "cells": [
  {
   "cell_type": "markdown",
   "metadata": {},
   "source": [
    "# File I/O & Iterator \n",
    "***\n",
    "\n",
    "## Introduction:  \n",
    "  \n",
    "You will learn **[file I/O (input and output)](#fileIO)** and **[Iterator](#Iter)** in this notebook."
   ]
  },
  {
   "cell_type": "markdown",
   "metadata": {},
   "source": [
    "***  \n",
    "<span id=\"fileIO\">  \n",
    "# Topic-1. File Input and Output\n",
    "## Table of Contents\n",
    "* 1.1 [Background Knowledge](#BK)  \n",
    "* 1.2 [Preparation](#Pre)  \n",
    "* 1.3 Examples  \n",
    "    *1.3.1 [Example-1 open(),close(),read()](#E1)  \n",
    "    *1.3.2 [Example-2 readline(),readlines()](#E2)  \n",
    "    *1.3.3 [Example-3 with open() as file](#E3)  \n",
    "    *1.3.4 [Example-4 write()](#E4)  \n",
    "* 1.4 Exercise  \n",
    "    *1.4.1 [Exercise-1 Make a copy of a file by Read and Write](#EX1)  \n",
    "    *1.4.2 [Exercise-2 Comparing Different Copying Strategies](#EX2)  \n",
    "    *1.4.3 [Exercise-3 Comparing 2 Files](#EX3)\n",
    "</span>  \n",
    "***\n",
    "<span id=\"BK\"> \n",
    "## 1.1 Background Knowledge  \n",
    "</span>  \n",
    "\n",
    "We have known how to use `input` and `print` to interact with keyboard and screen. It is also important to read from and write to files.\n",
    "\n",
    "The file IO includes the following functions:\n",
    "\n",
    "1. `open()`\n",
    "2. `close()`\n",
    "3. `read()`\n",
    "4. `readline()`\n",
    "5. `readlines()`   \n",
    "***\n",
    "  \n",
    "<span id=\"Pre\">  \n",
    "## 1.2 Preparation (Example Using java.txt)  \n",
    "</span>  \n",
    "You can find a file named `java.txt` in the fold. We will first use it to demonstrate the file I/O.  \n",
    "***\n",
    "<span id=\"E1\">  \n",
    "</span>  \n",
    "  \n",
    "<span id=\"review\">  \n",
    "## 1.3.1 Example-1  \n",
    "</span>  \n",
    "<span id=\"read\">\n",
    "</span>\n",
    "In this example, we will learn `open()`,`close()` and `read()`.  \n",
    "* There are **2 common used arguments** in `open()`. The first one is the *file name*(remenber to add the file type), the second one is *mode*:  \n",
    "<span id=\"diffe\"> \n",
    "![openmode](./openmode.png)\n",
    "        (picture retrived from www.programiz.com)  \n",
    "</span>\n",
    "* `file.close()` is used to close the corresponding file  \n",
    "* `file.read()` is used to store all the imformation in the file into memory. The argument in `read()` is the words you want to read, it is defaulted to be all the imformation."
   ]
  },
  {
   "cell_type": "code",
   "execution_count": 1,
   "metadata": {},
   "outputs": [
    {
     "name": "stdout",
     "output_type": "stream",
     "text": [
      "Java has significant advantages over other languages and environments that make it suitable for just about any programming task.\n",
      "The advantages of Python are as follows:\n",
      "1. Java is easy to learn.\n",
      "2. Java was designed to be easy to use and is therefore easy to write, compile, debug, and learn than other programming languages.\n",
      "3. Java is object-oriented. This allows you to create modular programs and reusable code.\n",
      "<class 'str'>\n"
     ]
    }
   ],
   "source": [
    "filename = \"java.txt\"\n",
    "file = open(filename, \"r\")\n",
    "\n",
    "s = file.read()\n",
    "print(s)\n",
    "print(type(s))\n",
    "\n",
    "file.close()"
   ]
  },
  {
   "cell_type": "code",
   "execution_count": 36,
   "metadata": {},
   "outputs": [
    {
     "name": "stdout",
     "output_type": "stream",
     "text": [
      "Java has s\n",
      "10\n",
      "ignificant\n",
      "10\n"
     ]
    }
   ],
   "source": [
    "filename = \"java.txt\"\n",
    "with open(filename, \"r\") as file:\n",
    "    s = file.read(10)\n",
    "    print(s)\n",
    "    print(len(s))\n",
    "    \n",
    "    s = file.read(10)\n",
    "    print(s)\n",
    "    print(len(s))"
   ]
  },
  {
   "cell_type": "markdown",
   "metadata": {},
   "source": [
    "***  \n",
    "<span id=\"E2\">  \n",
    "</span>  \n",
    "<span id=\"while\">  \n",
    "## 1.3.2 Example-2  \n",
    "</span>  \n",
    "In Example-1 we use `read()` to store all the imformation in the file in memory. In Example-2, we can try other methods: `readline()` and `readlines()`.  \n",
    "* `readline()` will read the file line by line, and return one line as a *string* once time. \n",
    "* `readlines()` will read the file and return a *list* whose elements are lines in file."
   ]
  },
  {
   "cell_type": "code",
   "execution_count": 2,
   "metadata": {},
   "outputs": [
    {
     "name": "stdout",
     "output_type": "stream",
     "text": [
      "Java has significant advantages over other languages and environments that make it suitable for just about any programming task.\n",
      "\n",
      "------------------------------\n",
      "The advantages of Python are as follows:\n",
      "\n",
      "------------------------------\n",
      "1. Java is easy to learn.\n",
      "\n",
      "------------------------------\n",
      "2. Java was designed to be easy to use and is therefore easy to write, compile, debug, and learn than other programming languages.\n",
      "\n",
      "------------------------------\n",
      "3. Java is object-oriented. This allows you to create modular programs and reusable code.\n",
      "------------------------------\n",
      " <class 'str'> 0\n"
     ]
    }
   ],
   "source": [
    "filename = \"java.txt\"\n",
    "file = open(filename, \"r\")\n",
    "\n",
    "s = file.readline()   \n",
    "while s: # while s means the loop will not end until it read all the lines\n",
    "    print(s)\n",
    "    print(\"-\"*30)\n",
    "    s = file.readline()\n",
    "else:\n",
    "    print(s, type(s), len(s)) \n",
    "file.close()"
   ]
  },
  {
   "cell_type": "code",
   "execution_count": 17,
   "metadata": {},
   "outputs": [
    {
     "name": "stdout",
     "output_type": "stream",
     "text": [
      "['Java has significant advantages over other languages and environments that make it suitable for just about any programming task.\\n', 'The advantages of Python are as follows:\\n', '1. Java is easy to learn.\\n', '2. Java was designed to be easy to use and is therefore easy to write, compile, debug, and learn than other programming languages.\\n', '3. Java is object-oriented. This allows you to create modular programs and reusable code.']\n",
      "<class 'list'>\n"
     ]
    }
   ],
   "source": [
    "filename = \"java.txt\"\n",
    "file = open(filename, \"r\")\n",
    "\n",
    "s = file.readlines()      \n",
    "print(s)\n",
    "print(type(s))\n",
    "\n",
    "file.close()\n"
   ]
  },
  {
   "cell_type": "markdown",
   "metadata": {},
   "source": [
    "***  \n",
    "<span id=\"E3\">  \n",
    "## 1.3.3 Example-3  \n",
    "</span> \n",
    "We sometimes use `with open() as file:` instead of `open()` and `close()`, because it is safer. If there are some bugs between `open()` and `close()`, the program will end without close the file. For example:  \n",
    "![f](./fault2.png)  \n",
    "The program will end without close the file, it is dangerous. However, when use `with` the danger can be avoided."
   ]
  },
  {
   "cell_type": "code",
   "execution_count": 24,
   "metadata": {},
   "outputs": [
    {
     "name": "stdout",
     "output_type": "stream",
     "text": [
      "Java has significant advantages over other languages and environments that make it suitable for just about any programming task.\n",
      "The advantages of Python are as follows:\n",
      "1. Java is easy to learn.\n",
      "2. Java was designed to be easy to use and is therefore easy to write, compile, debug, and learn than other programming languages.\n",
      "3. Java is object-oriented. This allows you to create modular programs and reusable code.\n",
      "<class 'str'>\n"
     ]
    }
   ],
   "source": [
    "filename = \"java.txt\"\n",
    "with open(filename, \"r\") as file:\n",
    "    s = file.read()\n",
    "    print(s)\n",
    "    print(type(s))"
   ]
  },
  {
   "cell_type": "markdown",
   "metadata": {},
   "source": [
    "***  \n",
    "<span id=\"E4\">  \n",
    "## 1.3.4 Example-4  \n",
    "</span> \n",
    "You can change the mode to `\"w\"` or `\"a\"` and use `write()` to write something.  \n",
    "**Remenber** [the difference](#diffe) between `\"w\"` and `\"a\"`.  \n",
    "Also note that there are **only one** argument in `write()`, if you want to write two or more string, you should use   \n",
    "`file.write(\"hello\"+\"world!\")`   \n",
    "instead of `file.write(\"hello\",\"world!\")`"
   ]
  },
  {
   "cell_type": "code",
   "execution_count": 4,
   "metadata": {},
   "outputs": [],
   "source": [
    "filename = \"java2.txt\"\n",
    "with open(filename, \"w\") as file:     \n",
    "    file.write(\"hello world!\"+\"hello world!\\n\")   \n",
    "    file.write(\"hello world!\")"
   ]
  },
  {
   "cell_type": "markdown",
   "metadata": {},
   "source": [
    "### Result:   \n",
    ">A new file named java2.txt is created and written:\n",
    "![java21](./java21.png) "
   ]
  },
  {
   "cell_type": "code",
   "execution_count": 5,
   "metadata": {},
   "outputs": [],
   "source": [
    "filename = \"java2.txt\"\n",
    "with open(filename, \"a\") as file:   \n",
    "    file.write(\"hello!\")"
   ]
  },
  {
   "cell_type": "markdown",
   "metadata": {},
   "source": [
    "### Result:   \n",
    ">Something is appended to the file java2.txt:\n",
    "![java22](./java22.png) "
   ]
  },
  {
   "cell_type": "markdown",
   "metadata": {},
   "source": [
    "***  \n",
    "<span id=\"EX1\">  \n",
    "</span>  \n",
    "<span id=\"E1\"> \n",
    "## 1.4.1 Exercise-1: Make a copy of a file by Read and Write\n",
    "</span>\n",
    "Define a function `copy_file(input_filename, output_filename)`, copy `input_filename` to `output_filename` using the following 3 strategies.\n",
    "\n",
    "1. Read all data from `input_filename` into a string, then write it to `output_filename`.\n",
    "2. Use a for loop. Read a character from `input_filename` and write it to `output_filename`. Repeat it until we have done copying.\n",
    "3. Similar to method 2. But this time, we read a `batch` (define it as a parameter) of characters every time. For example, we read `batch=1024` characters every time.\n",
    "  \n",
    "**Sample code here:**  \n",
    "```python\n",
    "def copy_file1(input_filename, output_filename):\n",
    "    with open(input_filename, \"r\") as file1:\n",
    "        with open(output_filename, \"w\") as file2:\n",
    "            (...) #some code here to read and write\n",
    "copy_file1(\"java.txt\", \"java1.txt\")\n",
    "```  \n",
    "**Ideal output:**  \n",
    "![java1](./java1.png)\n",
    "**Review [this](#review) if you forget.**  \n",
    "***\n",
    "## 1.4.1(1)-Solution"
   ]
  },
  {
   "cell_type": "code",
   "execution_count": 6,
   "metadata": {},
   "outputs": [],
   "source": [
    "def copy_file1(input_filename, output_filename):\n",
    "    with open(input_filename, \"r\") as file1:\n",
    "        with open(output_filename, \"w\") as file2:\n",
    "            s = file1.read()       \n",
    "            file2.write(s)\n",
    "copy_file1(\"java.txt\", \"java1.txt\")"
   ]
  },
  {
   "cell_type": "markdown",
   "metadata": {},
   "source": [
    "## 1.4.1(2)-solution  \n",
    "Because you are required to read the text one character each time, it is a good idea to use a `while` loop. You can review the `while` loop used in file I/O [here](#while)"
   ]
  },
  {
   "cell_type": "code",
   "execution_count": 15,
   "metadata": {},
   "outputs": [],
   "source": [
    "def copy_file2(input_filename, output_filename):\n",
    "    with open(input_filename, \"r\") as file1:\n",
    "        with open(output_filename, \"w\") as file2:\n",
    "            s = file1.read(1)\n",
    "            while s:\n",
    "                file2.write(s)    # every time the memory will be freed \n",
    "                s = file1.read(1)\n",
    "copy_file2(\"java.txt\", \"java2.txt\")"
   ]
  },
  {
   "cell_type": "markdown",
   "metadata": {},
   "source": [
    "## 1.4.1(3)-solution  \n",
    "The idea is similar to 2-solution. You can just change the number of characters you `read()` each time."
   ]
  },
  {
   "cell_type": "code",
   "execution_count": 18,
   "metadata": {},
   "outputs": [],
   "source": [
    "def copy_file3(input_filename, output_filename, batch = 1024):\n",
    "    with open(input_filename, \"r\") as file1:\n",
    "        with open(output_filename, \"w\") as file2:\n",
    "            s = file1.read(batch)\n",
    "            while s:\n",
    "                file2.write(s)\n",
    "                s = file1.read(batch)\n",
    "copy_file3(\"java.txt\", \"java3.txt\")"
   ]
  },
  {
   "cell_type": "markdown",
   "metadata": {},
   "source": [
    "***\n",
    "<span id=\"EX2\">  \n",
    "## 1.4.2 Exercise-2: Comparing Different Copying Strategies  \n",
    "</span>\n",
    "**Think about which one is better for what cases.**  \n",
    "1. **Preparation:**  \n",
    "Use the following `generate_large_file` function to generate a large file. Then test it with the 3 strategies.  \n",
    "2. **Comparison**  \n",
    "Compare the time it uses to copy such a large file using the `copy_file()` function you defined in [Exercise-1](#E1).  \n",
    "**sample code here:**  \n",
    "```python\n",
    "import time\n",
    "t1 = time.time()\n",
    "copy_file1(\"large.txt\", \"large1.txt\")\n",
    "t2 = time.time()\n",
    "print(t2 - t1)\n",
    "```   "
   ]
  },
  {
   "cell_type": "markdown",
   "metadata": {},
   "source": [
    "## 1.4.2-Preparation"
   ]
  },
  {
   "cell_type": "code",
   "execution_count": 24,
   "metadata": {},
   "outputs": [],
   "source": [
    "def generate_large_file(\n",
    "    filename = \"large.txt\", \n",
    "    size = 1000*1024*10 # About 266 MB\n",
    "):\n",
    "    import random\n",
    "    a = \"\".join((chr(i) for i in range(97,123)))\n",
    "    with open(filename, 'w') as f:\n",
    "        for i in range(size): \n",
    "            f.write(a)\n",
    "generate_large_file()"
   ]
  },
  {
   "cell_type": "markdown",
   "metadata": {},
   "source": [
    "## 1.4.2-Solution  \n"
   ]
  },
  {
   "cell_type": "code",
   "execution_count": 25,
   "metadata": {},
   "outputs": [
    {
     "name": "stdout",
     "output_type": "stream",
     "text": [
      "3.6432602405548096\n"
     ]
    }
   ],
   "source": [
    "import time\n",
    "\n",
    "t1 = time.time()\n",
    "\n",
    "copy_file1(\"large.txt\", \"large1.txt\")\n",
    "\n",
    "t2 = time.time()\n",
    "print(t2 - t1)\n"
   ]
  },
  {
   "cell_type": "code",
   "execution_count": 16,
   "metadata": {},
   "outputs": [
    {
     "name": "stdout",
     "output_type": "stream",
     "text": [
      "112.5853660106659\n"
     ]
    }
   ],
   "source": [
    "import time\n",
    "\n",
    "t1 = time.time()\n",
    "\n",
    "copy_file2(\"large.txt\", \"large2.txt\")\n",
    "\n",
    "t2 = time.time()\n",
    "print(t2 - t1)"
   ]
  },
  {
   "cell_type": "code",
   "execution_count": 19,
   "metadata": {},
   "outputs": [
    {
     "name": "stdout",
     "output_type": "stream",
     "text": [
      "2.4308226108551025\n"
     ]
    }
   ],
   "source": [
    "import time\n",
    "\n",
    "t1 = time.time()\n",
    "\n",
    "copy_file3(\"large.txt\", \"large3.txt\", 1024)\n",
    "\n",
    "t2 = time.time()\n",
    "print(t2 - t1)"
   ]
  },
  {
   "cell_type": "code",
   "execution_count": 20,
   "metadata": {},
   "outputs": [
    {
     "name": "stdout",
     "output_type": "stream",
     "text": [
      "2.3467276096343994\n"
     ]
    }
   ],
   "source": [
    "import time\n",
    "\n",
    "t1 = time.time()\n",
    "\n",
    "copy_file3(\"large.txt\", \"large4.txt\", 2048)\n",
    "\n",
    "t2 = time.time()\n",
    "print(t2 - t1)"
   ]
  },
  {
   "cell_type": "code",
   "execution_count": 21,
   "metadata": {},
   "outputs": [
    {
     "name": "stdout",
     "output_type": "stream",
     "text": [
      "2.28888201713562\n"
     ]
    }
   ],
   "source": [
    "import time\n",
    "\n",
    "t1 = time.time()\n",
    "\n",
    "copy_file3(\"large.txt\", \"large5.txt\", 4096)\n",
    "\n",
    "t2 = time.time()\n",
    "print(t2 - t1)"
   ]
  },
  {
   "cell_type": "markdown",
   "metadata": {},
   "source": [
    "## 1.4.2 Summary  of Exercise-2  \n",
    " **Using a Batch Chunk Can Improve I/O Efficiency**\n",
    "1. As we can see, if we read / write **chunks** of data, we can have better performance. The reason behind it is related to the computer architecture. You can think that, every read has some **startup** cost $f(x) = c_0 + c_1x$. Therefore, reading a batch of data is more efficient.  2. **However**, sometimes (especially when the file is very large) we cannot directly use `read()` to store all the function into memory because it may exceed computer's memory.   \n",
    "3. Moreover, the **batch size** is related to the hardware. Usually, a block of memory / the bandwith of a disk is a multiple of KB (that is $n \\times 1024$ bytes). If you are interested, try to use different batch size and do more experiments!  \n",
    "***"
   ]
  },
  {
   "cell_type": "markdown",
   "metadata": {},
   "source": [
    "<span id=\"EX3\">  \n",
    "## 1.4.3 Exercise 3: Comparing 2 Files  \n",
    "</span>\n",
    "\n",
    "Write a function `compare(file1, file2)`. Find the first position that they differ with each other. Return the position or -1 if two files are the same.\n",
    "\n",
    "1. write a function `find_difference(batch1, batch2)` to compare a batch  \n",
    "2. write the function `compare(file1, file2)` with the help of `find_difference(batch1, batch2)`  \n",
    "\n",
    "**Review the funciton `read()` [here](#read) if forget.**"
   ]
  },
  {
   "cell_type": "markdown",
   "metadata": {},
   "source": [
    "## 1.4.3-Solution\n",
    "1, every tiem we read `batch` of characters in file1 and file2.  \n",
    "2, if `a == b`, we read the next batch  \n",
    "3, if `a != b`, then we find the first position they are different."
   ]
  },
  {
   "cell_type": "code",
   "execution_count": 27,
   "metadata": {},
   "outputs": [],
   "source": [
    "def find_difference(batch1, batch2):\n",
    "    for i in range(min(len(batch1), len(batch2))):\n",
    "        if batch1[i] != batch2[i]:\n",
    "            return i\n",
    "    else:\n",
    "        return -1"
   ]
  },
  {
   "cell_type": "code",
   "execution_count": 29,
   "metadata": {},
   "outputs": [
    {
     "data": {
      "text/plain": [
       "0"
      ]
     },
     "execution_count": 29,
     "metadata": {},
     "output_type": "execute_result"
    }
   ],
   "source": [
    "# Compare 2 files\n",
    "\n",
    "file1 = \"java1.txt\"\n",
    "file2 = \"large.txt\"\n",
    "\n",
    "def compare(file1, file2, batch_size = 10):\n",
    "    with open(file1, \"r\") as f:\n",
    "        with open(file2, \"r\") as g:\n",
    "            cnt = -1\n",
    " \n",
    "            s1 = f.read(batch_size)\n",
    "            s2 = g.read(batch_size)\n",
    "\n",
    "            while s1 and s2:    \n",
    "                cnt += 1\n",
    "                s1 = f.read(batch_size)\n",
    "                s2 = g.read(batch_size)\n",
    "                if s1 != s2:\n",
    "                    return cnt * batch_size + find_difference(s1, s2)\n",
    "    return -1\n",
    "\n",
    "compare(file1, file2)\n",
    "# the output is 0 means they differ in the first character"
   ]
  },
  {
   "cell_type": "markdown",
   "metadata": {},
   "source": [
    "***\n",
    "<span id=\"Iter\">  \n",
    "# Topic-2 Iterator and Generator  \n",
    "</span>  \n",
    "## Table of Contents  \n",
    "* 2.1 [Introduction](#introduction)  \n",
    "* 2.2 Examples\n",
    "    * 2.2.1 [Example-1 Syntax of a generator](#2E1)  \n",
    "    * 2.2.2 [Example-2 Convert Between Iterator and List](#2E2)  \n",
    "    * 2.2.3 [Example-3 Implement function iter](#2E3)  \n",
    "* 2.2 Exercise  \n",
    "    * 2.3.1 [Exercise-1: Implement function range](#2EX1)  \n",
    "    * 2.3.1 [Exercise-2: Implement function list_](#2EX2)  \n",
    "*** \n",
    "<span id=\"introduction\">   \n",
    "## 2.1 Introduction  \n",
    "</span>\n",
    "Iterator is a special type of function. It uses `yield` to return \"stages\" of results and it uses `return` to terminate. The greatest benefit of an iterator is that it saves you memory!\n",
    "\n",
    "Iterators are everywhere: `range` is a frequently used iterator.\n",
    "\n",
    "We can use `sys.getsizeof()` to get the size of a value. Compare a list and a iterator!"
   ]
  },
  {
   "cell_type": "code",
   "execution_count": 100,
   "metadata": {},
   "outputs": [
    {
     "data": {
      "text/plain": [
       "(1008, 48)"
      ]
     },
     "execution_count": 100,
     "metadata": {},
     "output_type": "execute_result"
    }
   ],
   "source": [
    "import sys\n",
    "li = list(range(100))\n",
    "sys.getsizeof(li), sys.getsizeof(range(100))"
   ]
  },
  {
   "cell_type": "code",
   "execution_count": 99,
   "metadata": {},
   "outputs": [
    {
     "data": {
      "text/plain": [
       "(90112, 48)"
      ]
     },
     "execution_count": 99,
     "metadata": {},
     "output_type": "execute_result"
    }
   ],
   "source": [
    "import sys\n",
    "li = list(range(10000))\n",
    "sys.getsizeof(li), sys.getsizeof(range(10000))"
   ]
  },
  {
   "cell_type": "markdown",
   "metadata": {},
   "source": [
    "We can see that the size of a iterator `range()` is **much smaller** than the list. So how to convert a list into a iterator?   \n",
    "***"
   ]
  },
  {
   "cell_type": "markdown",
   "metadata": {},
   "source": [
    "<span id=\"2E1\">  \n",
    "## 2.2.1 Example-1  \n",
    "</span>\n",
    " **Syntax of a generator**  \n",
    " We can define a function using `yield` to return the stage, this is a kind of simple generator. When we want to get the stage we call `next()`  \n",
    "\n",
    "  \n",
    "```python\n",
    "def function(...):\n",
    "    yield result1\n",
    "    yield result2\n",
    "    return\n",
    "```"
   ]
  },
  {
   "cell_type": "code",
   "execution_count": 101,
   "metadata": {},
   "outputs": [
    {
     "name": "stdout",
     "output_type": "stream",
     "text": [
      "<generator object iterator at 0x000001DC30A772C8>\n",
      "1\n",
      "2\n",
      "3\n"
     ]
    }
   ],
   "source": [
    "def iterator():\n",
    "    yield 1\n",
    "    yield 2\n",
    "    yield 3\n",
    "    return\n",
    "\n",
    "i = iterator()\n",
    "\n",
    "print(i)\n",
    "print(next(i))\n",
    "print(next(i))\n",
    "print(next(i))\n",
    "# you cannot call the next again "
   ]
  },
  {
   "cell_type": "markdown",
   "metadata": {},
   "source": [
    "***\n",
    "<span id=\"2E2\">   \n",
    "## 2.2.2 Example-2  \n",
    "</span>  \n",
    "**Convert Between Iterator and List**  \n",
    "  \n",
    "we can directly use **`iter()`** to convert list into iterator"
   ]
  },
  {
   "cell_type": "code",
   "execution_count": 107,
   "metadata": {},
   "outputs": [
    {
     "name": "stdout",
     "output_type": "stream",
     "text": [
      "1\n",
      "2\n",
      "3\n"
     ]
    }
   ],
   "source": [
    "li = [1, 2, 3]\n",
    "iterator = range(10)\n",
    "\n",
    "\n",
    "new_iterator = iter(li)\n",
    "new_li = list(iterator)\n",
    "\n",
    "for i in new_iterator:\n",
    "    print(i)"
   ]
  },
  {
   "cell_type": "markdown",
   "metadata": {},
   "source": [
    "***\n",
    "<span id=\"2E3\">  \n",
    "## 2.2.3 Example-3  \n",
    "</span>  \n",
    "**Implement function iter**\n",
    "\n",
    "Can we implement the function `iter` that can generate an `iterator`?  \n",
    "A `for` loop to achieve this.  \n",
    "\n",
    "we can use this function to check:  \n",
    "```python\n",
    "for i in iterator:\n",
    "    print(i)\n",
    "```  "
   ]
  },
  {
   "cell_type": "code",
   "execution_count": 30,
   "metadata": {},
   "outputs": [
    {
     "name": "stdout",
     "output_type": "stream",
     "text": [
      "<generator object iter_ at 0x000001F3FEBF9A48>\n",
      "1\n",
      "2\n",
      "3\n"
     ]
    }
   ],
   "source": [
    "def iter_(li):\n",
    "    for i in li:\n",
    "        yield i\n",
    "li = [1, 2, 3]\n",
    "new_iterator = iter_(li)\n",
    "print(new_iterator)\n",
    "\n",
    "for i in new_iterator:\n",
    "    print(i)"
   ]
  },
  {
   "cell_type": "markdown",
   "metadata": {},
   "source": [
    "***\n",
    "<span id=\"2EX1\">  \n",
    "## 2.3.1 Exercise-1: Implement function `range_`  \n",
    "</span>\n",
    "\n",
    "Remember what `range` looks like? \n",
    "\n",
    "1. `range(stop)`\n",
    "2. `range(start, stop)`\n",
    "3. `range(start, stop, step)`\n",
    "\n",
    "Try to reimplement it `range_` that has the same functionality as `range`."
   ]
  },
  {
   "cell_type": "markdown",
   "metadata": {},
   "source": [
    "## 2.3.1-Solution  \n",
    "1. we should first set parameters in the function `range_()` and initialize them as the default value.   \n",
    "2. Then the function should give value to the parameters according to the parameters users input.   \n",
    "3. Finally, judge whether step is large or smaller than 0, then use a `while` loop to yield the value."
   ]
  },
  {
   "cell_type": "code",
   "execution_count": 31,
   "metadata": {},
   "outputs": [],
   "source": [
    "def range_(*parameters):\n",
    "    start = 0\n",
    "    stop = None\n",
    "    step = 1\n",
    "    \n",
    "    assert(len(parameters)) >= 1 and len(parameters) <= 3\n",
    "    \n",
    "    if len(parameters) == 1:\n",
    "        stop = parameters[0]\n",
    "    elif len(parameters) == 2:\n",
    "        start, stop = parameters\n",
    "    elif len(parameters) == 3:\n",
    "        start, stop, step = parameters\n",
    "        \n",
    "    i = start\n",
    "    \n",
    "    assert(step != 0)\n",
    "    \n",
    "    if step > 0:\n",
    "        while i < stop:\n",
    "            yield i\n",
    "            i += step\n",
    "    elif step < 0:\n",
    "        while i > stop:\n",
    "            yield i\n",
    "            i += step"
   ]
  },
  {
   "cell_type": "code",
   "execution_count": 33,
   "metadata": {},
   "outputs": [
    {
     "name": "stdout",
     "output_type": "stream",
     "text": [
      "<class 'generator'>\n"
     ]
    },
    {
     "data": {
      "text/plain": [
       "[100, 90, 80, 70, 60, 50, 40, 30, 20]"
      ]
     },
     "execution_count": 33,
     "metadata": {},
     "output_type": "execute_result"
    }
   ],
   "source": [
    "print(type(range_(100,10,-10)))\n",
    "list(range_(100,10,-10))"
   ]
  },
  {
   "cell_type": "markdown",
   "metadata": {},
   "source": [
    "***\n",
    "<span id=\"2EX2\">  \n",
    "## 2.3.2 Exercise-2: Implement function `list_`  \n",
    "</span>\n",
    "\n",
    "What `list` does is the opposite of `iter`. Try to reimplement a function `list_` that convert a iterator into a `list`."
   ]
  },
  {
   "cell_type": "markdown",
   "metadata": {},
   "source": [
    "## 2.3.2-Solution  \n",
    "Use a `for` loop to achieve it"
   ]
  },
  {
   "cell_type": "code",
   "execution_count": 123,
   "metadata": {},
   "outputs": [],
   "source": [
    "def list_(iterator):\n",
    "    li = []\n",
    "    for i in iterator:\n",
    "        li.append(i)\n",
    "    return li"
   ]
  },
  {
   "cell_type": "code",
   "execution_count": 124,
   "metadata": {},
   "outputs": [
    {
     "data": {
      "text/plain": [
       "[0, 1, 2, 3, 4, 5, 6, 7, 8, 9]"
      ]
     },
     "execution_count": 124,
     "metadata": {},
     "output_type": "execute_result"
    }
   ],
   "source": [
    "list_(range(10))"
   ]
  },
  {
   "cell_type": "markdown",
   "metadata": {},
   "source": [
    "***\n",
    "***\n",
    "+ Author: Guochao Xie, Peiran Qin  \n",
    "+ Editor: Peiran Qin  \n",
    "+ Last modified: 2020-05-31"
   ]
  }
 ],
 "metadata": {
  "kernelspec": {
   "display_name": "Python 3",
   "language": "python",
   "name": "python3"
  }
 },
 "nbformat": 4,
 "nbformat_minor": 4
}
