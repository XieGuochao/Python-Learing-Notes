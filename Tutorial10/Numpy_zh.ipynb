{
 "cells": [
  {
   "cell_type": "markdown",
   "metadata": {
    "toc": true
   },
   "source": [
    "<h1>Table of Contents<span class=\"tocSkip\"></span></h1>\n",
    "<div class=\"toc\"><ul class=\"toc-item\"><li><span><a href=\"#Numpy\" data-toc-modified-id=\"Numpy-1\"><span class=\"toc-item-num\">1&nbsp;&nbsp;</span>Numpy</a></span><ul class=\"toc-item\"><li><span><a href=\"#Numpy简介\" data-toc-modified-id=\"Numpy简介-1.1\"><span class=\"toc-item-num\">1.1&nbsp;&nbsp;</span>Numpy简介</a></span></li><li><span><a href=\"#ndarray\" data-toc-modified-id=\"ndarray-1.2\"><span class=\"toc-item-num\">1.2&nbsp;&nbsp;</span>ndarray</a></span></li></ul></li><li><span><a href=\"#ndarray数组的创建和变换\" data-toc-modified-id=\"ndarray数组的创建和变换-2\"><span class=\"toc-item-num\">2&nbsp;&nbsp;</span>ndarray数组的创建和变换</a></span><ul class=\"toc-item\"><li><span><a href=\"#从Python中的列表、元组等类型创建ndarray数组。\" data-toc-modified-id=\"从Python中的列表、元组等类型创建ndarray数组。-2.1\"><span class=\"toc-item-num\">2.1&nbsp;&nbsp;</span>从Python中的列表、元组等类型创建ndarray数组。</a></span></li><li><span><a href=\"#使用-NumPy中函数创建ndarray数组,如:-arange,-ones,-zeros等\" data-toc-modified-id=\"使用-NumPy中函数创建ndarray数组,如:-arange,-ones,-zeros等-2.2\"><span class=\"toc-item-num\">2.2&nbsp;&nbsp;</span>使用 NumPy中函数创建ndarray数组,如: arange, ones, zeros等</a></span></li><li><span><a href=\"#ndarray数组的变换\" data-toc-modified-id=\"ndarray数组的变换-2.3\"><span class=\"toc-item-num\">2.3&nbsp;&nbsp;</span>ndarray数组的变换</a></span><ul class=\"toc-item\"><li><span><a href=\"#ndarray数组的维度变换\" data-toc-modified-id=\"ndarray数组的维度变换-2.3.1\"><span class=\"toc-item-num\">2.3.1&nbsp;&nbsp;</span>ndarray数组的维度变换</a></span></li><li><span><a href=\"#ndarray数组的类型变换\" data-toc-modified-id=\"ndarray数组的类型变换-2.3.2\"><span class=\"toc-item-num\">2.3.2&nbsp;&nbsp;</span>ndarray数组的类型变换</a></span></li></ul></li></ul></li><li><span><a href=\"#ndarray数组的操作\" data-toc-modified-id=\"ndarray数组的操作-3\"><span class=\"toc-item-num\">3&nbsp;&nbsp;</span>ndarray数组的操作</a></span><ul class=\"toc-item\"><li><span><a href=\"#数组的索引和切片\" data-toc-modified-id=\"数组的索引和切片-3.1\"><span class=\"toc-item-num\">3.1&nbsp;&nbsp;</span>数组的索引和切片</a></span></li><li><span><a href=\"#ndarray数组的运算\" data-toc-modified-id=\"ndarray数组的运算-3.2\"><span class=\"toc-item-num\">3.2&nbsp;&nbsp;</span>ndarray数组的运算</a></span></li></ul></li><li><span><a href=\"#NumPy的随机数函数\" data-toc-modified-id=\"NumPy的随机数函数-4\"><span class=\"toc-item-num\">4&nbsp;&nbsp;</span>NumPy的随机数函数</a></span><ul class=\"toc-item\"><li><span><a href=\"#NumPy的统计函数\" data-toc-modified-id=\"NumPy的统计函数-4.1\"><span class=\"toc-item-num\">4.1&nbsp;&nbsp;</span>NumPy的统计函数</a></span></li><li><span><a href=\"#NumPy的梯度函数\" data-toc-modified-id=\"NumPy的梯度函数-4.2\"><span class=\"toc-item-num\">4.2&nbsp;&nbsp;</span>NumPy的梯度函数</a></span></li></ul></li><li><span><a href=\"#Exercise\" data-toc-modified-id=\"Exercise-5\"><span class=\"toc-item-num\">5&nbsp;&nbsp;</span>Exercise</a></span><ul class=\"toc-item\"><li><span><a href=\"#Exercise-1:-Normalize-a-matrix\" data-toc-modified-id=\"Exercise-1:-Normalize-a-matrix-5.1\"><span class=\"toc-item-num\">5.1&nbsp;&nbsp;</span>Exercise 1: Normalize a matrix</a></span></li><li><span><a href=\"#Exercise-2:-Learn-by-reading-document\" data-toc-modified-id=\"Exercise-2:-Learn-by-reading-document-5.2\"><span class=\"toc-item-num\">5.2&nbsp;&nbsp;</span>Exercise 2: Learn by reading document</a></span></li><li><span><a href=\"#Exercise-3:-Clip\" data-toc-modified-id=\"Exercise-3:-Clip-5.3\"><span class=\"toc-item-num\">5.3&nbsp;&nbsp;</span>Exercise 3: Clip</a></span></li></ul></li></ul></div>"
   ]
  },
  {
   "cell_type": "markdown",
   "metadata": {},
   "source": [
    "## Numpy"
   ]
  },
  {
   "cell_type": "markdown",
   "metadata": {},
   "source": [
    "### Numpy简介"
   ]
  },
  {
   "cell_type": "markdown",
   "metadata": {},
   "source": [
    "- NumPy是一个开源的Python科学计算机出库\n",
    "- 一个强大的N维数组对象 ndarray\n",
    "- 广播功能函数\n",
    "- 整合C/C++/Fortran代码得工具\n",
    "- 线性代数，傅里叶变化，随机数生成"
   ]
  },
  {
   "cell_type": "markdown",
   "metadata": {},
   "source": [
    "### ndarray"
   ]
  },
  {
   "cell_type": "markdown",
   "metadata": {},
   "source": [
    "- 传统计算，比较麻烦。关注点在一个一个元素上\n",
    "\n",
    "- 数组对象可以去掉元素间运算所需的循环，是一维向量更像单个数据\n",
    "\n",
    "- 设置专门的数组对象，经过优化，可以提升这类应用的运算速度\n",
    "\n",
    "- 科学计算中，一般一个维度所有的数据的类型`往往相同`\n",
    "\n",
    "- 数组对象采用相同的数据类型，有利于节省运算和存储空间\n",
    "\n",
    "- 由两部分构成\n",
    "    - 实际的数据\n",
    "    - 描述这些数据的元数据（数据维度，数据类型等）\n",
    "\n",
    "- ndarray数组一般要求所有元素类型相同，数据下标从0开始\n",
    "\n",
    "- ndarray在程序中的别名是：array\n",
    "\n",
    "- np.array()输出成[]形式，元素由空格分裂\n",
    "\n",
    "- 轴（axis）：保存数据的维度\n",
    "    - 矩阵（二维数组）\n",
    "        - 第一轴`(axis=0)`是矩阵的列操作\n",
    "        - 第二轴`(axis=1)`是矩阵的行操作\n",
    "     - 三维数组\n",
    "        - 第三轴`(axis=2)`为图像矩阵的通道\n",
    "\n",
    "- 秩（rank）：轴的数量"
   ]
  },
  {
   "cell_type": "markdown",
   "metadata": {},
   "source": [
    "- ndarray对象的属性\n",
    "<img src=\"numpy.assets/image-20200430152909151.png\" alt=\"image-20200430152909151\" style=\"zoom:50%;\" />\n",
    "- ndarray的元素类型\n",
    "<img src=\"numpy.assets/image-20200430153159484.png\" alt=\"image-20200430153159484\" style=\"zoom:50%;\" />\n",
    "> intc与计算机有关\n",
    "\n",
    "<img src=\"numpy.assets/image-20200430153415592.png\" alt=\"image-20200430153415592\" style=\"zoom:50%;\" />\n",
    "\n",
    "<img src=\"numpy.assets/image-20200430153432802.png\" alt=\"image-20200430153432802\" style=\"zoom:50%;\" />\n",
    "\n",
    "> 实部(.real)+ j虚部(.imag)\n",
    "\n",
    "> 科学计算涉及数据较多,对存储和性能都有较高要求。\n",
    ">\n",
    "> 对元素类型精细定义,有助于 NumPy合理使用存储空间并优化性能。\n",
    ">\n",
    "> 对元素类型精细定义,有助于程序员对程序规模有合理评估。\n",
    "\n",
    "- ndarray数组可以由非同质对象构成\n",
    "    - 非同质ndarray元素为对象类型\n",
    "    - 非同质ndarray对象无法有效发挥NumPy优势，尽量避免使用"
   ]
  },
  {
   "cell_type": "markdown",
   "metadata": {},
   "source": [
    "## ndarray数组的创建和变换"
   ]
  },
  {
   "cell_type": "markdown",
   "metadata": {},
   "source": [
    "### 从Python中的列表、元组等类型创建ndarray数组。\n",
    "\n",
    "   > 当不指定dtype时，NumPy将根据数据情况关联一个dtype类型\n",
    "   >\n",
    "   > 元组和列表混合类型创建\n",
    "\n",
    " "
   ]
  },
  {
   "cell_type": "code",
   "execution_count": 10,
   "metadata": {},
   "outputs": [
    {
     "name": "stdout",
     "output_type": "stream",
     "text": [
      "[1 2 3 4]\n",
      "[1. 2. 3. 4.]\n"
     ]
    }
   ],
   "source": [
    "import numpy as np\n",
    "li = [1, 2, 3, 4]\n",
    "x = np.array(li)\n",
    "print(x)\n",
    "x = np.array(li, dtype=np.float32)\n",
    "print(x)"
   ]
  },
  {
   "cell_type": "markdown",
   "metadata": {},
   "source": [
    "### 使用 NumPy中函数创建ndarray数组,如: arange, ones, zeros等"
   ]
  },
  {
   "cell_type": "markdown",
   "metadata": {},
   "source": [
    " - 最常用的函数\n",
    "\n",
    "   <img src=\"numpy.assets/image-20200430154644719.png\" alt=\"image-20200430154644719\" style=\"zoom:50%;\" />\n",
    "\n",
    "   <img src=\"numpy.assets/image-20200430155034435.png\" alt=\"image-20200430155034435\" style=\"zoom:50%;\" />\n",
    "\n",
    "   <img src=\"numpy.assets/image-20200430155139710.png\" alt=\"image-20200430155139710\" style=\"zoom:50%;\" />\n",
    "   \n",
    "  > 除了arrage其余生成都是浮点数类型"
   ]
  },
  {
   "cell_type": "code",
   "execution_count": 18,
   "metadata": {},
   "outputs": [
    {
     "name": "stdout",
     "output_type": "stream",
     "text": [
      "[[0. 0. 0.]\n",
      " [0. 0. 0.]]\n",
      "[[0 0 0]\n",
      " [0 0 0]]\n"
     ]
    }
   ],
   "source": [
    "print(np.zeros((2, 3)))\n",
    "print(np.zeros((2, 3), dtype=int))"
   ]
  },
  {
   "cell_type": "code",
   "execution_count": 28,
   "metadata": {},
   "outputs": [
    {
     "data": {
      "text/plain": [
       "array([10, 11, 12, 13, 14, 15, 16, 17, 18, 20])"
      ]
     },
     "execution_count": 28,
     "metadata": {},
     "output_type": "execute_result"
    }
   ],
   "source": [
    "np.linspace(start=10, stop=20, num=10, endpoint=True, retstep=False, dtype=int, axis=-1)"
   ]
  },
  {
   "cell_type": "markdown",
   "metadata": {},
   "source": [
    "> start: 返回样本数据开始点\n",
    ">\n",
    "> stop:返回样本数据结束点\n",
    ">\n",
    "> num:生成的样本数据量，默认为50\n",
    ">\n",
    "> endpoint：True则包含stop；False则不包含stop\n",
    ">\n",
    "> retstep：If True, return (samples, step), where step is the spacing between samples.(即如果为True则结果会给出数据间隔)\n",
    ">\n",
    "> dtype：输出数组类型\n",
    ">\n",
    "> axis：0(默认)或-1\n",
    "\n",
    "> linspace生成的默认为浮点数\n",
    ">\n",
    "> 科学计算中一般都是浮点数"
   ]
  },
  {
   "cell_type": "code",
   "execution_count": 32,
   "metadata": {},
   "outputs": [
    {
     "name": "stdout",
     "output_type": "stream",
     "text": [
      "[[1 1 1]\n",
      " [1 1 1]\n",
      " [0 0 0]\n",
      " [0 0 0]]\n",
      "[[1 1 1 0 0 0]\n",
      " [1 1 1 0 0 0]]\n"
     ]
    }
   ],
   "source": [
    "x = np.ones((2, 3), dtype=int)\n",
    "y = np.zeros((2, 3), dtype=int)\n",
    "print(np.concatenate((x, y), axis=0))\n",
    "print(np.concatenate((x, y), axis=1))"
   ]
  },
  {
   "cell_type": "markdown",
   "metadata": {},
   "source": [
    "### ndarray数组的变换"
   ]
  },
  {
   "cell_type": "markdown",
   "metadata": {},
   "source": [
    "#### ndarray数组的维度变换\n",
    "\n",
    "   - ndarray数组的维度变换方法\n",
    "\n",
    "     <img src=\"numpy.assets/image-20200430155951356.png\" alt=\"image-20200430155951356\" style=\"zoom:50%;\" />\n",
    "\n",
    "     > resize和reshape功能一致\n",
    "     >\n",
    "     > resize返回的是之前的数组，形成一个新的数组\n",
    "     >\n",
    "     > reshape不改变原数组，包含原数组的备份\n",
    "\n",
    "     "
   ]
  },
  {
   "cell_type": "code",
   "execution_count": 50,
   "metadata": {},
   "outputs": [
    {
     "name": "stdout",
     "output_type": "stream",
     "text": [
      "[ 1  4  7 10 13 16 19 22 25 28 31 34 37 40 43 46 49 52 55 58 61 64 67 70\n",
      " 73 76 79 82 85 88 91 94 97]\n",
      "[[ 1  4  7 10 13 16 19 22 25 28 31]\n",
      " [34 37 40 43 46 49 52 55 58 61 64]\n",
      " [67 70 73 76 79 82 85 88 91 94 97]]\n",
      "[[ 1  4  7]\n",
      " [10 13 16]\n",
      " [19 22 25]\n",
      " [28 31 34]\n",
      " [37 40 43]\n",
      " [46 49 52]\n",
      " [55 58 61]\n",
      " [64 67 70]\n",
      " [73 76 79]\n",
      " [82 85 88]\n",
      " [91 94 97]]\n",
      "[[ 1 10 19 28 37 46 55 64 73 82 91]\n",
      " [ 4 13 22 31 40 49 58 67 76 85 94]\n",
      " [ 7 16 25 34 43 52 61 70 79 88 97]]\n",
      "[ 1 10 19 28 37 46 55 64 73 82 91  4 13 22 31 40 49 58 67 76 85 94  7 16\n",
      " 25 34 43 52 61 70 79 88 97]\n"
     ]
    }
   ],
   "source": [
    "y = np.arange(1, 100, 3)\n",
    "print(y)\n",
    "y = y.reshape((3, -1))\n",
    "print(y)\n",
    "y = y.reshape((-1, 3))\n",
    "print(y)\n",
    "y = y.swapaxes(0, 1)\n",
    "print(y)\n",
    "y = y.flatten()\n",
    "print(y)"
   ]
  },
  {
   "cell_type": "markdown",
   "metadata": {},
   "source": [
    "- mat (or array).reshape(c, -1) 必须是矩阵格式或者数组格式，才能使用 .reshape(c, -1) 函数， 表示将此矩阵或者数组重组，以 c行d列的形式表示\n",
    "- reshape(m,-1) #改变维度为每一列m行\n",
    "- reshape(-1,m) #改变维度为每一行m列\n",
    "- -1的作用: 自动计算d：d=数组或者矩阵里面所有的元素个数/c, d必须是整数，不然报错）"
   ]
  },
  {
   "cell_type": "markdown",
   "metadata": {},
   "source": [
    "#### ndarray数组的类型变换"
   ]
  },
  {
   "cell_type": "code",
   "execution_count": 47,
   "metadata": {
    "scrolled": false
   },
   "outputs": [
    {
     "name": "stdout",
     "output_type": "stream",
     "text": [
      "[ 1. 10. 19. 28. 37. 46. 55. 64. 73. 82. 91.  4. 13. 22. 31. 40. 49. 58.\n",
      " 67. 76. 85. 94.  7. 16. 25. 34. 43. 52. 61. 70. 79. 88. 97.]\n"
     ]
    }
   ],
   "source": [
    "x = y.astype(float)\n",
    "print(x)"
   ]
  },
  {
   "cell_type": "markdown",
   "metadata": {},
   "source": [
    " > astype()是一定会创建一个新的数组（原始数据的一个拷贝）"
   ]
  },
  {
   "cell_type": "markdown",
   "metadata": {},
   "source": [
    "- ndarray向list转换"
   ]
  },
  {
   "cell_type": "code",
   "execution_count": 49,
   "metadata": {},
   "outputs": [
    {
     "name": "stdout",
     "output_type": "stream",
     "text": [
      "[1.0, 10.0, 19.0, 28.0, 37.0, 46.0, 55.0, 64.0, 73.0, 82.0, 91.0, 4.0, 13.0, 22.0, 31.0, 40.0, 49.0, 58.0, 67.0, 76.0, 85.0, 94.0, 7.0, 16.0, 25.0, 34.0, 43.0, 52.0, 61.0, 70.0, 79.0, 88.0, 97.0]\n"
     ]
    }
   ],
   "source": [
    "ls = x.tolist()\n",
    "print(ls)"
   ]
  },
  {
   "cell_type": "markdown",
   "metadata": {},
   "source": [
    " > list的速度可能会比numpy慢"
   ]
  },
  {
   "cell_type": "markdown",
   "metadata": {},
   "source": [
    "## ndarray数组的操作"
   ]
  },
  {
   "cell_type": "markdown",
   "metadata": {},
   "source": [
    "### 数组的索引和切片"
   ]
  },
  {
   "cell_type": "markdown",
   "metadata": {},
   "source": [
    "- 索引:获取数组中特定位置元素的过程\n",
    "- 切片:获取数组元素子集的过程"
   ]
  },
  {
   "cell_type": "markdown",
   "metadata": {},
   "source": [
    "- 一维数组的索引和切片\n",
    "\n",
    "   - 与python类似\n",
    "\n",
    "\n",
    "- 多维数组的索引\n",
    "\n",
    "   - 索引：在每个维度指定序号"
   ]
  },
  {
   "cell_type": "code",
   "execution_count": 53,
   "metadata": {},
   "outputs": [
    {
     "name": "stdout",
     "output_type": "stream",
     "text": [
      "[[[ 0  1  2  3]\n",
      "  [ 4  5  6  7]\n",
      "  [ 8  9 10 11]]\n",
      "\n",
      " [[12 13 14 15]\n",
      "  [16 17 18 19]\n",
      "  [20 21 22 23]]]\n",
      "23\n"
     ]
    }
   ],
   "source": [
    "a = np.arange(24).reshape((2, 3, 4))\n",
    "print(a)\n",
    "print(a[1, 2, 3])"
   ]
  },
  {
   "cell_type": "markdown",
   "metadata": {},
   "source": [
    "   - 切片"
   ]
  },
  {
   "cell_type": "code",
   "execution_count": 56,
   "metadata": {},
   "outputs": [
    {
     "name": "stdout",
     "output_type": "stream",
     "text": [
      "[ 5 17]\n",
      "[[ 4  6]\n",
      " [16 18]]\n",
      "[[[ 0  2]\n",
      "  [ 4  6]\n",
      "  [ 8 10]]\n",
      "\n",
      " [[12 14]\n",
      "  [16 18]\n",
      "  [20 22]]]\n"
     ]
    }
   ],
   "source": [
    "print(a[:, 1, -3])\n",
    "print(a[:, 1, ::2])\n",
    "print(a[:, :, ::2])"
   ]
  },
  {
   "cell_type": "markdown",
   "metadata": {},
   "source": [
    "- 索引一维数组"
   ]
  },
  {
   "cell_type": "code",
   "execution_count": 80,
   "metadata": {},
   "outputs": [
    {
     "name": "stdout",
     "output_type": "stream",
     "text": [
      "[10  9  8  7  6  5  4  3  2]\n",
      "[7 7 9 2]\n"
     ]
    }
   ],
   "source": [
    "x = np.arange(10,1,-1)\n",
    "print(x)\n",
    "print(x[np.array([3, 3, 1, 8])])"
   ]
  },
  {
   "cell_type": "markdown",
   "metadata": {},
   "source": [
    "> 索引数组必须为整数类型。数组中的每个值指示数组中要使用哪个值来代替索引。"
   ]
  },
  {
   "cell_type": "code",
   "execution_count": 83,
   "metadata": {
    "scrolled": true
   },
   "outputs": [
    {
     "name": "stdout",
     "output_type": "stream",
     "text": [
      "[[9 9]\n",
      " [8 7]]\n"
     ]
    }
   ],
   "source": [
    "print(x[np.array([[1,1],[2,3]])])"
   ]
  },
  {
   "cell_type": "markdown",
   "metadata": {},
   "source": [
    "> 一般来说，使用索引数组时返回的数组是与索引数组形状相同的数组，但数组的类型和值正在编制索引。"
   ]
  },
  {
   "cell_type": "markdown",
   "metadata": {},
   "source": [
    "- 索引多维数组"
   ]
  },
  {
   "cell_type": "code",
   "execution_count": 82,
   "metadata": {},
   "outputs": [
    {
     "name": "stdout",
     "output_type": "stream",
     "text": [
      "[[ 0  1  2  3  4  5  6]\n",
      " [ 7  8  9 10 11 12 13]\n",
      " [14 15 16 17 18 19 20]\n",
      " [21 22 23 24 25 26 27]\n",
      " [28 29 30 31 32 33 34]]\n",
      "[ 0 15 30]\n"
     ]
    }
   ],
   "source": [
    "y=np.arange(35).reshape(5,7)\n",
    "print(y)\n",
    "print(y[np.array([0,2,4]),np.array([0,1,2])]  )  #等价于y[[0,2,4],[0,1,2]]"
   ]
  },
  {
   "cell_type": "markdown",
   "metadata": {},
   "source": [
    "> 在这种情况下，如果索引数组具有匹配的形状，并且要编制索引的数组的每个维度都有一个索引数组，则结果数组的形状与索引数组相同，并且这些值对应于索引数组中每个位置的索引集。在此示例中，两个索引数组的第一个索引值为 0，因此结果数组的第一个值是 y[0，0]。下一个值是 y[2，1]，最后一个值是 y[4，2]。"
   ]
  },
  {
   "cell_type": "code",
   "execution_count": 78,
   "metadata": {
    "scrolled": false
   },
   "outputs": [
    {
     "ename": "IndexError",
     "evalue": "shape mismatch: indexing arrays could not be broadcast together with shapes (3,) (2,) ",
     "output_type": "error",
     "traceback": [
      "\u001b[1;31m---------------------------------------------------------------------------\u001b[0m",
      "\u001b[1;31mIndexError\u001b[0m                                Traceback (most recent call last)",
      "\u001b[1;32m<ipython-input-78-ca3144fc52f1>\u001b[0m in \u001b[0;36m<module>\u001b[1;34m\u001b[0m\n\u001b[1;32m----> 1\u001b[1;33m \u001b[0my\u001b[0m\u001b[1;33m[\u001b[0m\u001b[0mnp\u001b[0m\u001b[1;33m.\u001b[0m\u001b[0marray\u001b[0m\u001b[1;33m(\u001b[0m\u001b[1;33m[\u001b[0m\u001b[1;36m0\u001b[0m\u001b[1;33m,\u001b[0m\u001b[1;36m2\u001b[0m\u001b[1;33m,\u001b[0m\u001b[1;36m4\u001b[0m\u001b[1;33m]\u001b[0m\u001b[1;33m)\u001b[0m\u001b[1;33m,\u001b[0m \u001b[0mnp\u001b[0m\u001b[1;33m.\u001b[0m\u001b[0marray\u001b[0m\u001b[1;33m(\u001b[0m\u001b[1;33m[\u001b[0m\u001b[1;36m0\u001b[0m\u001b[1;33m,\u001b[0m\u001b[1;36m1\u001b[0m\u001b[1;33m]\u001b[0m\u001b[1;33m)\u001b[0m\u001b[1;33m]\u001b[0m\u001b[1;33m\u001b[0m\u001b[1;33m\u001b[0m\u001b[0m\n\u001b[0m",
      "\u001b[1;31mIndexError\u001b[0m: shape mismatch: indexing arrays could not be broadcast together with shapes (3,) (2,) "
     ]
    }
   ],
   "source": [
    "y[np.array([0,2,4]), np.array([0,1])]"
   ]
  },
  {
   "cell_type": "markdown",
   "metadata": {},
   "source": [
    "> 如果索引数组没有相同的形状，则尝试将它们广播到相同的形状。如果无法广播到相同形状，则引发异常"
   ]
  },
  {
   "cell_type": "code",
   "execution_count": 84,
   "metadata": {},
   "outputs": [
    {
     "data": {
      "text/plain": [
       "array([ 1, 15, 29])"
      ]
     },
     "execution_count": 84,
     "metadata": {},
     "output_type": "execute_result"
    }
   ],
   "source": [
    "y[np.array([0,2,4]), 1]"
   ]
  },
  {
   "cell_type": "markdown",
   "metadata": {},
   "source": [
    "> 广播机制允许索引数组与其他索引的标量组合。其效果是，标量值用于索引数组的所有相应值"
   ]
  },
  {
   "cell_type": "code",
   "execution_count": 86,
   "metadata": {},
   "outputs": [
    {
     "data": {
      "text/plain": [
       "array([[ 0,  1,  2,  3,  4,  5,  6],\n",
       "       [14, 15, 16, 17, 18, 19, 20],\n",
       "       [28, 29, 30, 31, 32, 33, 34]])"
      ]
     },
     "execution_count": 86,
     "metadata": {},
     "output_type": "execute_result"
    }
   ],
   "source": [
    " y[np.array([0,2,4])]"
   ]
  },
  {
   "cell_type": "markdown",
   "metadata": {},
   "source": [
    "> 结果是构建一个新数组，其中索引数组的每个值从被索引的数组中选择一行，生成的数组具有生成的形状(索引元素的数量、行大小)。"
   ]
  },
  {
   "cell_type": "markdown",
   "metadata": {},
   "source": [
    "- Boolean or “mask” index arrays"
   ]
  },
  {
   "cell_type": "code",
   "execution_count": 87,
   "metadata": {},
   "outputs": [
    {
     "name": "stdout",
     "output_type": "stream",
     "text": [
      "[[False False False False False False False]\n",
      " [False False False False False False False]\n",
      " [False False False False False False False]\n",
      " [ True  True  True  True  True  True  True]\n",
      " [ True  True  True  True  True  True  True]]\n",
      "[21 22 23 24 25 26 27 28 29 30 31 32 33 34]\n"
     ]
    }
   ],
   "source": [
    "b = y > 20\n",
    "print(b)\n",
    "print(y[b])"
   ]
  },
  {
   "cell_type": "markdown",
   "metadata": {},
   "source": [
    "> 整数索引数组不同，在布尔的情况下，结果是一个一维数组，其中包含索引数组中对应于布尔数组中所有真实元素的所有元素。"
   ]
  },
  {
   "cell_type": "code",
   "execution_count": 89,
   "metadata": {},
   "outputs": [
    {
     "name": "stdout",
     "output_type": "stream",
     "text": [
      "[False False False  True  True]\n",
      "[[21 22 23 24 25 26 27]\n",
      " [28 29 30 31 32 33 34]]\n"
     ]
    }
   ],
   "source": [
    "print(b[:, 5])\n",
    "print(y[b[:, 5]])"
   ]
  },
  {
   "cell_type": "markdown",
   "metadata": {},
   "source": [
    "> In general, when the boolean array has fewer dimensions than the array being indexed, this is equivalent to y[b, ...], which means y is indexed by b followed by as many : as are needed to fill out the rank of y. Thus the shape of the result is one dimension containing the number of True elements of the boolean array, followed by the remaining dimensions of the array being indexed."
   ]
  },
  {
   "cell_type": "code",
   "execution_count": 93,
   "metadata": {},
   "outputs": [
    {
     "name": "stdout",
     "output_type": "stream",
     "text": [
      "[[[ 0  1  2  3  4]\n",
      "  [ 5  6  7  8  9]\n",
      "  [10 11 12 13 14]]\n",
      "\n",
      " [[15 16 17 18 19]\n",
      "  [20 21 22 23 24]\n",
      "  [25 26 27 28 29]]]\n",
      "--------------------------------------------------\n",
      "[[ 0  1  2  3  4]\n",
      " [ 5  6  7  8  9]\n",
      " [20 21 22 23 24]\n",
      " [25 26 27 28 29]]\n"
     ]
    }
   ],
   "source": [
    "x = np.arange(30).reshape(2, 3, 5)\n",
    "print(x)\n",
    "print('-'*50)\n",
    "b = np.array([[True, True, False], [False, True, True]])\n",
    "print(x[b])"
   ]
  },
  {
   "cell_type": "markdown",
   "metadata": {},
   "source": [
    "### ndarray数组的运算"
   ]
  },
  {
   "cell_type": "markdown",
   "metadata": {},
   "source": [
    "1. 数组与标量之间的运算\n",
    "\n",
    "   - 作用于数组的每一个元素 \n",
    "\n",
    "     > a.mean() 求一个数组的平均值\n",
    "\n",
    "   - NumPy一元函数\n",
    "\n",
    "     <img src=\"numpy.assets/image-20200430171431472.png\" alt=\"image-20200430171431472\" style=\"zoom:50%;\" />\n",
    "\n",
    "     > ceil 不超过这个元素的整数值\n",
    "     >\n",
    "     > floor 小于这个元素的最大整数值\n",
    "\n",
    "     <img src=\"numpy.assets/image-20200430171525549.png\" alt=\"image-20200430171525549\" style=\"zoom:50%;\" />\n",
    "\n",
    "2. 二元函数\n",
    "\n",
    "   - 二元函数\n",
    "\n",
    "     <img src=\"numpy.assets/image-20200430174249808.png\" alt=\"image-20200430174249808\" style=\"zoom:50%;\" />"
   ]
  },
  {
   "cell_type": "code",
   "execution_count": 64,
   "metadata": {
    "scrolled": false
   },
   "outputs": [
    {
     "name": "stdout",
     "output_type": "stream",
     "text": [
      "[0 1 2 3 4 5 6 7 8 9]\n",
      "[10 11 12 13 14 15 16 17 18 19]\n",
      "[10 12 14 16 18 20 22 24 26 28]\n"
     ]
    }
   ],
   "source": [
    "x = np.arange(10)\n",
    "y = np.arange(10, 20)\n",
    "print(x, y, x + y, sep='\\n')"
   ]
  },
  {
   "cell_type": "code",
   "execution_count": 59,
   "metadata": {
    "scrolled": true
   },
   "outputs": [
    {
     "name": "stdout",
     "output_type": "stream",
     "text": [
      "[ 0  1  4  9 16 25 36 49 64 81]\n"
     ]
    }
   ],
   "source": [
    "# Apply a function to a matrix\n",
    "\n",
    "# power of 2\n",
    "print(np.power(x, 2))"
   ]
  },
  {
   "cell_type": "code",
   "execution_count": 60,
   "metadata": {},
   "outputs": [
    {
     "name": "stdout",
     "output_type": "stream",
     "text": [
      "[ 0.          0.84147098  0.90929743  0.14112001 -0.7568025  -0.95892427\n",
      " -0.2794155   0.6569866   0.98935825  0.41211849]\n"
     ]
    }
   ],
   "source": [
    "# sin\n",
    "print(np.sin(x))"
   ]
  },
  {
   "cell_type": "code",
   "execution_count": 65,
   "metadata": {},
   "outputs": [
    {
     "name": "stdout",
     "output_type": "stream",
     "text": [
      "[0.         1.         1.41421356 1.73205081 2.         2.23606798\n",
      " 2.44948974 2.64575131 2.82842712 3.        ]\n"
     ]
    }
   ],
   "source": [
    "# square root\n",
    "print(np.sqrt(x))"
   ]
  },
  {
   "cell_type": "code",
   "execution_count": 66,
   "metadata": {},
   "outputs": [
    {
     "data": {
      "text/plain": [
       "array([[ 0., -1., -2.,  3.,  4.],\n",
       "       [ 5., -6., -7.,  8.,  9.],\n",
       "       [10., 11., 12., 13., 14.]])"
      ]
     },
     "execution_count": 66,
     "metadata": {},
     "output_type": "execute_result"
    }
   ],
   "source": [
    "x = np.arange(15, dtype=float)\n",
    "x = x.reshape((3, -1))\n",
    "x[:2, 1:3] *= -1\n",
    "x"
   ]
  },
  {
   "cell_type": "code",
   "execution_count": 69,
   "metadata": {
    "scrolled": false
   },
   "outputs": [
    {
     "name": "stdout",
     "output_type": "stream",
     "text": [
      "[[False False False  True  True]\n",
      " [ True False False  True  True]\n",
      " [ True  True  True  True  True]]\n"
     ]
    }
   ],
   "source": [
    "# Check element-wise\n",
    "print(x > 0)"
   ]
  },
  {
   "cell_type": "markdown",
   "metadata": {},
   "source": [
    "## NumPy的随机数函数"
   ]
  },
  {
   "cell_type": "markdown",
   "metadata": {},
   "source": [
    "1. np.random的随机数函数\n",
    "\n",
    "   - <img src=\"numpy.assets/image-20200430202104425.png\" alt=\"image-20200430202104425\" style=\"zoom:50%;\" />\n",
    "\n",
    "     > seed()设定为一个值之后，使用上面的函数再次产生纬度和类型的随机数，结果是相同的\n",
    "     >\n",
    "     > seed()只能是一次有效\n",
    "\n",
    "   - <img src=\"numpy.assets/image-20200430202516240.png\" alt=\"image-20200430202516240\" style=\"zoom:50%;\" />\n",
    "\n",
    "     > p可以是一个数组\n",
    "\n",
    "   - <img src=\"numpy.assets/image-20200430211803282.png\" alt=\"image-20200430211803282\" style=\"zoom:50%;\" />"
   ]
  },
  {
   "cell_type": "markdown",
   "metadata": {},
   "source": [
    "### NumPy的统计函数\n",
    "\n",
    "1. np常用的统计函数\n",
    "\n",
    "   - <img src=\"numpy.assets/image-20200430213121808.png\" alt=\"image-20200430213121808\" style=\"zoom:50%;\" />\n",
    "\n",
    "     > 可以指定对某个轴进行统计运算\n",
    "     >\n",
    "     > 数组最外层，轴为0"
   ]
  },
  {
   "cell_type": "code",
   "execution_count": 98,
   "metadata": {},
   "outputs": [
    {
     "name": "stdout",
     "output_type": "stream",
     "text": [
      "[[ 0  1  2  3  4]\n",
      " [ 5  6  7  8  9]\n",
      " [10 11 12 13 14]]\n",
      "--------------------------------------------------\n",
      "[5. 6. 7. 8. 9.]\n",
      "--------------------------------------------------\n",
      "[ 2.  7. 12.]\n"
     ]
    }
   ],
   "source": [
    "a = np.arange(15).reshape(3, 5)\n",
    "print(a)\n",
    "print('-'*50)\n",
    "print(np.mean(a, axis=0))\n",
    "print('-'*50)\n",
    "print(np.mean(a, axis=1))"
   ]
  },
  {
   "cell_type": "markdown",
   "metadata": {},
   "source": [
    "<img src=\"numpy.assets/image-20200501080238090.png\" alt=\"image-20200501080238090\" style=\"zoom:50%;\" />"
   ]
  },
  {
   "cell_type": "code",
   "execution_count": 99,
   "metadata": {},
   "outputs": [
    {
     "name": "stdout",
     "output_type": "stream",
     "text": [
      "14\n",
      "(2, 4)\n"
     ]
    }
   ],
   "source": [
    "print(np.argmax(a))\n",
    "print(np.unravel_index(np.argmax(a), a.shape))"
   ]
  },
  {
   "cell_type": "markdown",
   "metadata": {},
   "source": [
    "### NumPy的梯度函数"
   ]
  },
  {
   "cell_type": "markdown",
   "metadata": {},
   "source": [
    "1. 梯度\n",
    "\n",
    "   - 连虚值之间的变化率，即斜率\n",
    "    > 计算数组f中元素的梯度，当f为多维时，返回每个维度梯度\n",
    "    >\n",
    "    > XY坐标轴连续三个X坐标对应的Y轴值：a, b, c, 其中，b的梯度是：(c - a)/2，a的梯度是：(b - a)/1，c的梯度是：(b - c)/2"
   ]
  },
  {
   "cell_type": "code",
   "execution_count": 101,
   "metadata": {},
   "outputs": [
    {
     "name": "stdout",
     "output_type": "stream",
     "text": [
      "[ 4 18  3 15  7]\n",
      "--------------------------------------------------\n",
      "[14.  -0.5 -1.5  2.  -8. ]\n"
     ]
    }
   ],
   "source": [
    "a = np.random.randint(0, 20, 5)\n",
    "print(a)\n",
    "print('-'*50)\n",
    "print(np.gradient(a))"
   ]
  },
  {
   "cell_type": "code",
   "execution_count": 110,
   "metadata": {},
   "outputs": [
    {
     "name": "stdout",
     "output_type": "stream",
     "text": [
      "[[12 32 34 18 23]\n",
      " [46  9 48 32  2]\n",
      " [24 13 30 25 47]]\n",
      "--------------------------------------------------\n",
      "[array([[ 34. , -23. ,  14. ,  14. , -21. ],\n",
      "       [  6. ,  -9.5,  -2. ,   3.5,  12. ],\n",
      "       [-22. ,   4. , -18. ,  -7. ,  45. ]]),\n",
      " array([[ 20. ,  11. ,  -7. ,  -5.5,   5. ],\n",
      "       [-37. ,   1. ,  11.5, -23. , -30. ],\n",
      "       [-11. ,   3. ,   6. ,   8.5,  22. ]])]\n"
     ]
    }
   ],
   "source": [
    "import pprint\n",
    "c = np.random.randint(0, 50, (3, 5))\n",
    "print(c)\n",
    "print('-'*50)\n",
    "d = np.gradient(c)\n",
    "pprint.pprint(d)"
   ]
  },
  {
   "cell_type": "markdown",
   "metadata": {},
   "source": [
    "<img src=\"numpy.assets/image-20200501081800886.png\" alt=\"image-20200501081800886\" style=\"zoom:50%;\" />"
   ]
  },
  {
   "cell_type": "markdown",
   "metadata": {},
   "source": [
    "## Exercise"
   ]
  },
  {
   "cell_type": "markdown",
   "metadata": {},
   "source": [
    "### Exercise 1: Normalize a matrix"
   ]
  },
  {
   "cell_type": "markdown",
   "metadata": {},
   "source": [
    "Given matrix `x`:\n",
    "\n",
    "```python\n",
    "x = np.random.uniform(10, size=(10, 5))\n",
    "```\n",
    "\n",
    "Normalize it using the formula:\n",
    "\n",
    "$(x - x\\_min) / (x\\_max - x\\_min)$\n",
    "\n",
    "Try to use the function `np.max` and `np.min`."
   ]
  },
  {
   "cell_type": "markdown",
   "metadata": {},
   "source": [
    "### Exercise 2: Learn by reading document"
   ]
  },
  {
   "cell_type": "markdown",
   "metadata": {},
   "source": [
    "For the same matrix `x`:\n",
    "\n",
    "Find the mean value for every column and min value for every row.\n",
    "\n",
    "Hint: you need to use parameter axis.\n",
    "\n",
    "Reference: \n",
    "- https://numpy.org/doc/stable/reference/generated/numpy.amin.html#numpy.amin\n",
    "- https://numpy.org/doc/stable/reference/generated/numpy.mean.html#numpy.mean"
   ]
  },
  {
   "cell_type": "markdown",
   "metadata": {},
   "source": [
    "### Exercise 3: Clip\n",
    "\n",
    "Implement a function `clip(matrix, low, high)`, return a matrix such that:\n",
    "\n",
    "for every element e, if `e < low`, set `e = low`; if `e > high`, set `e = high`.\n",
    "\n",
    "You should make a copy using `.copy()` and return a new matrix."
   ]
  }
 ],
 "metadata": {
  "kernelspec": {
   "display_name": "Python 3.8.1 64-bit",
   "language": "python",
   "name": "python38164bit3bd70bfc246b41218fc8b2a46b5d1967"
  },
  "language_info": {
   "codemirror_mode": {
    "name": "ipython",
    "version": 3
   },
   "file_extension": ".py",
   "mimetype": "text/x-python",
   "name": "python",
   "nbconvert_exporter": "python",
   "pygments_lexer": "ipython3",
   "version": "3.8.3rc1"
  },
  "toc": {
   "base_numbering": 1,
   "nav_menu": {},
   "number_sections": true,
   "sideBar": true,
   "skip_h1_title": true,
   "title_cell": "Table of Contents",
   "title_sidebar": "Contents",
   "toc_cell": true,
   "toc_position": {
    "height": "calc(100% - 180px)",
    "left": "10px",
    "top": "150px",
    "width": "268.528px"
   },
   "toc_section_display": true,
   "toc_window_display": true
  }
 },
 "nbformat": 4,
 "nbformat_minor": 4
}
